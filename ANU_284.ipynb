{
  "nbformat": 4,
  "nbformat_minor": 0,
  "metadata": {
    "colab": {
      "provenance": [],
      "authorship_tag": "ABX9TyPu9Upuwrr0mkTY/2mbYFik",
      "include_colab_link": true
    },
    "kernelspec": {
      "name": "python3",
      "display_name": "Python 3"
    },
    "language_info": {
      "name": "python"
    }
  },
  "cells": [
    {
      "cell_type": "markdown",
      "metadata": {
        "id": "view-in-github",
        "colab_type": "text"
      },
      "source": [
        "<a href=\"https://colab.research.google.com/github/Anu-Murugan/My-SQL/blob/main/ANU_284.ipynb\" target=\"_parent\"><img src=\"https://colab.research.google.com/assets/colab-badge.svg\" alt=\"Open In Colab\"/></a>"
      ]
    },
    {
      "cell_type": "code",
      "source": [
        "pip install pySpark"
      ],
      "metadata": {
        "colab": {
          "base_uri": "https://localhost:8080/"
        },
        "id": "a82LmpQ3NiGJ",
        "outputId": "f2540107-0dd6-4d7f-f399-55fe428aecc9"
      },
      "execution_count": 70,
      "outputs": [
        {
          "output_type": "stream",
          "name": "stdout",
          "text": [
            "Requirement already satisfied: pySpark in /usr/local/lib/python3.11/dist-packages (3.5.1)\n",
            "Requirement already satisfied: py4j==0.10.9.7 in /usr/local/lib/python3.11/dist-packages (from pySpark) (0.10.9.7)\n"
          ]
        }
      ]
    },
    {
      "cell_type": "code",
      "source": [
        "import pyspark"
      ],
      "metadata": {
        "id": "rgpNXHWONyVA"
      },
      "execution_count": 71,
      "outputs": []
    },
    {
      "cell_type": "code",
      "source": [
        "from pyspark.sql import SparkSession"
      ],
      "metadata": {
        "id": "m0M_dqGaN8Dp"
      },
      "execution_count": 72,
      "outputs": []
    },
    {
      "cell_type": "code",
      "source": [
        "spark = SparkSession.builder.appName(\"example\").getOrCreate()"
      ],
      "metadata": {
        "id": "NcjB3qtcOGw5"
      },
      "execution_count": 73,
      "outputs": []
    },
    {
      "cell_type": "code",
      "source": [
        "from os import name\n",
        "from pyspark.sql import Row\n",
        "data = [Row(name=\"anu\", age=20), Row(name=\"banu\", age=30), Row(name=\"dhana\", age=35)]\n",
        "df = spark.createDataFrame(data)\n",
        "df.show()"
      ],
      "metadata": {
        "colab": {
          "base_uri": "https://localhost:8080/"
        },
        "id": "Tc4bN1RXOYC1",
        "outputId": "4708932f-6ec9-41f7-91c3-b0cbf7268abe"
      },
      "execution_count": 74,
      "outputs": [
        {
          "output_type": "stream",
          "name": "stdout",
          "text": [
            "+-----+---+\n",
            "| name|age|\n",
            "+-----+---+\n",
            "|  anu| 20|\n",
            "| banu| 30|\n",
            "|dhana| 35|\n",
            "+-----+---+\n",
            "\n"
          ]
        }
      ]
    },
    {
      "cell_type": "code",
      "source": [
        "df.select(\"name\")"
      ],
      "metadata": {
        "colab": {
          "base_uri": "https://localhost:8080/"
        },
        "id": "VLndsMigPGAA",
        "outputId": "f22a0017-c1d4-4b59-f8b8-c83eba15fff8"
      },
      "execution_count": 75,
      "outputs": [
        {
          "output_type": "execute_result",
          "data": {
            "text/plain": [
              "DataFrame[name: string]"
            ]
          },
          "metadata": {},
          "execution_count": 75
        }
      ]
    },
    {
      "cell_type": "code",
      "source": [
        "df.select(\"age\").show()"
      ],
      "metadata": {
        "colab": {
          "base_uri": "https://localhost:8080/"
        },
        "id": "Uc3NQAJZPo_b",
        "outputId": "d5fd94ea-97a1-42d1-e3c2-0f1f8859c9e9"
      },
      "execution_count": 76,
      "outputs": [
        {
          "output_type": "stream",
          "name": "stdout",
          "text": [
            "+---+\n",
            "|age|\n",
            "+---+\n",
            "| 20|\n",
            "| 30|\n",
            "| 35|\n",
            "+---+\n",
            "\n"
          ]
        }
      ]
    },
    {
      "cell_type": "code",
      "source": [
        "df.select(\"name\").show()"
      ],
      "metadata": {
        "colab": {
          "base_uri": "https://localhost:8080/"
        },
        "id": "DqhiSWPLPymO",
        "outputId": "bbe910bf-28ec-46de-80ac-b5802a28bdca"
      },
      "execution_count": 77,
      "outputs": [
        {
          "output_type": "stream",
          "name": "stdout",
          "text": [
            "+-----+\n",
            "| name|\n",
            "+-----+\n",
            "|  anu|\n",
            "| banu|\n",
            "|dhana|\n",
            "+-----+\n",
            "\n"
          ]
        }
      ]
    },
    {
      "cell_type": "code",
      "source": [
        "df.filter(df.age <= 25).show()"
      ],
      "metadata": {
        "colab": {
          "base_uri": "https://localhost:8080/"
        },
        "id": "jDODhJ8JP59v",
        "outputId": "9c8c8a82-7e9c-4279-fb40-3b9ec8cb1eea"
      },
      "execution_count": 78,
      "outputs": [
        {
          "output_type": "stream",
          "name": "stdout",
          "text": [
            "+----+---+\n",
            "|name|age|\n",
            "+----+---+\n",
            "| anu| 20|\n",
            "+----+---+\n",
            "\n"
          ]
        }
      ]
    },
    {
      "cell_type": "code",
      "source": [
        "from pyspark.sql.functions import col\n",
        "df.withColumn(\"age_plus_10\",col(\"age\") + 10).show()"
      ],
      "metadata": {
        "colab": {
          "base_uri": "https://localhost:8080/"
        },
        "id": "SO8RewwiQFzD",
        "outputId": "6f2984cf-9af7-4c92-8a98-45882181e43f"
      },
      "execution_count": 79,
      "outputs": [
        {
          "output_type": "stream",
          "name": "stdout",
          "text": [
            "+-----+---+-----------+\n",
            "| name|age|age_plus_10|\n",
            "+-----+---+-----------+\n",
            "|  anu| 20|         30|\n",
            "| banu| 30|         40|\n",
            "|dhana| 35|         45|\n",
            "+-----+---+-----------+\n",
            "\n"
          ]
        }
      ]
    },
    {
      "cell_type": "code",
      "source": [
        "df.orderBy(df.age.desc()).show()"
      ],
      "metadata": {
        "colab": {
          "base_uri": "https://localhost:8080/"
        },
        "id": "EQhf83imQauN",
        "outputId": "87f15c6b-eb3d-4485-c14e-1a9164fa107d"
      },
      "execution_count": 80,
      "outputs": [
        {
          "output_type": "stream",
          "name": "stdout",
          "text": [
            "+-----+---+\n",
            "| name|age|\n",
            "+-----+---+\n",
            "|dhana| 35|\n",
            "| banu| 30|\n",
            "|  anu| 20|\n",
            "+-----+---+\n",
            "\n"
          ]
        }
      ]
    },
    {
      "cell_type": "code",
      "source": [
        "from pyspark.sql import Row\n",
        "data = [Row(name=\"anu\", age=20), Row(name=\"banu\", age=30), Row(name=\"dhana\", age=35)]\n",
        "df = spark.createDataFrame(data)"
      ],
      "metadata": {
        "id": "IZ7Z4l8xQpaH"
      },
      "execution_count": 81,
      "outputs": []
    },
    {
      "cell_type": "code",
      "source": [
        "from pyspark.sql.types import StructType,StructField,StringType,IntegerType\n",
        "schema=StructType([\n",
        "    StructField(\"names\", StringType(), True),\n",
        "    StructField(\"age\", IntegerType(), True)\n",
        "    ])\n",
        "data=[(\"raj\",33), (\"yuva\",35)]\n",
        "df2=spark.createDataFrame(data, schema)\n",
        "df2.show()"
      ],
      "metadata": {
        "colab": {
          "base_uri": "https://localhost:8080/"
        },
        "id": "F2DhtcoKVb5H",
        "outputId": "6894404e-7297-409b-eed5-1d332470b869"
      },
      "execution_count": 91,
      "outputs": [
        {
          "output_type": "stream",
          "name": "stdout",
          "text": [
            "+-----+---+\n",
            "|names|age|\n",
            "+-----+---+\n",
            "|  raj| 33|\n",
            "| yuva| 35|\n",
            "+-----+---+\n",
            "\n"
          ]
        }
      ]
    },
    {
      "cell_type": "code",
      "source": [
        "from pyspark.sql.functions import when,col\n",
        "df.withColumn(\"age_group\",when(df.age < 25,\"Young\").otherwise(\"old\")).show()"
      ],
      "metadata": {
        "colab": {
          "base_uri": "https://localhost:8080/"
        },
        "id": "NK4GGQpcXHxv",
        "outputId": "bde3936a-17ce-4e2f-f367-8bad18a74c9d"
      },
      "execution_count": 93,
      "outputs": [
        {
          "output_type": "stream",
          "name": "stdout",
          "text": [
            "+-----+---+---------+\n",
            "| name|age|age_group|\n",
            "+-----+---+---------+\n",
            "|  anu| 20|    Young|\n",
            "| banu| 30|      old|\n",
            "|dhana| 35|      old|\n",
            "+-----+---+---------+\n",
            "\n"
          ]
        }
      ]
    },
    {
      "cell_type": "code",
      "source": [
        "from pyspark.sql.functions import isnull, col\n",
        "df.select([isnull(c) for c in df.columns]).show()"
      ],
      "metadata": {
        "colab": {
          "base_uri": "https://localhost:8080/"
        },
        "id": "50yTB041XKRn",
        "outputId": "00ce5597-0ed7-4a49-8df0-0150017dfde8"
      },
      "execution_count": 94,
      "outputs": [
        {
          "output_type": "stream",
          "name": "stdout",
          "text": [
            "+--------------+-------------+\n",
            "|(name IS NULL)|(age IS NULL)|\n",
            "+--------------+-------------+\n",
            "|         false|        false|\n",
            "|         false|        false|\n",
            "|         false|        false|\n",
            "+--------------+-------------+\n",
            "\n"
          ]
        }
      ]
    },
    {
      "cell_type": "code",
      "source": [
        "df_with_dupes=df.union(df).show()"
      ],
      "metadata": {
        "colab": {
          "base_uri": "https://localhost:8080/"
        },
        "id": "2cO8csu0XrIm",
        "outputId": "c735f3aa-399a-4ed2-fc13-4dbd7f2d7e99"
      },
      "execution_count": 95,
      "outputs": [
        {
          "output_type": "stream",
          "name": "stdout",
          "text": [
            "+-----+---+\n",
            "| name|age|\n",
            "+-----+---+\n",
            "|  anu| 20|\n",
            "| banu| 30|\n",
            "|dhana| 35|\n",
            "|  anu| 20|\n",
            "| banu| 30|\n",
            "|dhana| 35|\n",
            "+-----+---+\n",
            "\n"
          ]
        }
      ]
    },
    {
      "cell_type": "code",
      "source": [
        "df_with_dupes=df.union(df)\n",
        "df_with_dupes.dropDuplicates().show()"
      ],
      "metadata": {
        "colab": {
          "base_uri": "https://localhost:8080/"
        },
        "id": "JOczdSDlX-nN",
        "outputId": "5f71b6db-efa5-4e3f-9832-e37557343bf0"
      },
      "execution_count": 96,
      "outputs": [
        {
          "output_type": "stream",
          "name": "stdout",
          "text": [
            "+-----+---+\n",
            "| name|age|\n",
            "+-----+---+\n",
            "|  anu| 20|\n",
            "|dhana| 35|\n",
            "| banu| 30|\n",
            "+-----+---+\n",
            "\n"
          ]
        }
      ]
    },
    {
      "cell_type": "code",
      "source": [
        "df_with_null=spark.createDataFrame([(\"muruga\", 45), (None, 44)],  [\"name\", \"age\"])\n",
        "df_with_null.filter(df_with_null.name.isNotNull()).show()"
      ],
      "metadata": {
        "colab": {
          "base_uri": "https://localhost:8080/"
        },
        "id": "izItftByZCCl",
        "outputId": "dd894adb-0442-443d-8118-97a6fa020095"
      },
      "execution_count": 101,
      "outputs": [
        {
          "output_type": "stream",
          "name": "stdout",
          "text": [
            "+------+---+\n",
            "|  name|age|\n",
            "+------+---+\n",
            "|muruga| 45|\n",
            "+------+---+\n",
            "\n"
          ]
        }
      ]
    },
    {
      "cell_type": "code",
      "source": [
        "df.createOrReplaceTempView(\"people\")\n",
        "spark.sql(\"SELECT * FROM people WHERE age > 28\").show()"
      ],
      "metadata": {
        "colab": {
          "base_uri": "https://localhost:8080/"
        },
        "id": "mJYMqCaYbRkc",
        "outputId": "12a657d8-1491-42e8-e6b4-50a5305977c1"
      },
      "execution_count": 106,
      "outputs": [
        {
          "output_type": "stream",
          "name": "stdout",
          "text": [
            "+-----+---+\n",
            "| name|age|\n",
            "+-----+---+\n",
            "| banu| 30|\n",
            "|dhana| 35|\n",
            "+-----+---+\n",
            "\n"
          ]
        }
      ]
    },
    {
      "cell_type": "code",
      "source": [
        "print(\"total Rows:\",df.count())"
      ],
      "metadata": {
        "colab": {
          "base_uri": "https://localhost:8080/"
        },
        "id": "6fYyEXBhb_3s",
        "outputId": "f2a01712-f415-47de-990d-7d2de3ab4163"
      },
      "execution_count": 107,
      "outputs": [
        {
          "output_type": "stream",
          "name": "stdout",
          "text": [
            "total Rows: 3\n"
          ]
        }
      ]
    },
    {
      "cell_type": "code",
      "source": [
        "df.printSchema()"
      ],
      "metadata": {
        "colab": {
          "base_uri": "https://localhost:8080/"
        },
        "id": "QmOU07j-cG_E",
        "outputId": "70574e2c-b92f-4ded-d76e-6279854c1af6"
      },
      "execution_count": 108,
      "outputs": [
        {
          "output_type": "stream",
          "name": "stdout",
          "text": [
            "root\n",
            " |-- name: string (nullable = true)\n",
            " |-- age: long (nullable = true)\n",
            "\n"
          ]
        }
      ]
    },
    {
      "cell_type": "markdown",
      "source": [
        "DAY 2 PYSPARK"
      ],
      "metadata": {
        "id": "Ur9XmB0wdNrn"
      }
    },
    {
      "cell_type": "code",
      "source": [
        "from pyspark.sql import SparkSession\n",
        "spark = sparkSession"
      ],
      "metadata": {
        "id": "5gz8_aycdRrm"
      },
      "execution_count": null,
      "outputs": []
    }
  ]
}